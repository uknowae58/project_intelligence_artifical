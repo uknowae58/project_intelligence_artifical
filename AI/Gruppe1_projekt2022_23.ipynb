{
 "cells": [
  {
   "cell_type": "markdown",
   "metadata": {
    "pycharm": {
     "name": "#%% md\n"
    }
   },
   "source": [
    "# Gruppe 1\n",
    "\n",
    "## Présentation\n"
   ]
  },
  {
   "cell_type": "markdown",
   "source": [
    "# 1- Collecting and cleanig of the Data"
   ],
   "metadata": {
    "collapsed": false,
    "pycharm": {
     "name": "#%% md\n"
    }
   }
  },
  {
   "cell_type": "code",
   "execution_count": 142,
   "metadata": {
    "pycharm": {
     "name": "#%%\n"
    }
   },
   "outputs": [],
   "source": [
    "from pycoshark.utils import create_mongodb_uri_string\n",
    "from bson import ObjectId\n",
    "import pymongo\n",
    "import pandas as pd\n",
    "import datetime\n",
    "\n",
    "# Database credentials\n",
    "user = 'grundlagenki2021'\n",
    "password = '38BTGx71d'\n",
    "host = '134.76.81.151'\n",
    "port = '27017'\n",
    "authentication_db = 'smartshark'\n",
    "database = \"smartshark\"\n",
    "ssl_enabled = None\n",
    "\n",
    "# Establish connection\n",
    "uri = create_mongodb_uri_string(user, password, host, port, authentication_db, ssl_enabled)\n",
    "\n",
    "myclient = pymongo.MongoClient(uri)\n",
    "mydb = myclient[\"smartshark\"]\n",
    "\n",
    "# Calcul of the time needed for an Issue to be done\n",
    "\"\"\" We assume that an issue start with an Event status \"open\" and is solved only when the event status is\n",
    " \"closed\".\n",
    " \"\"\"\n",
    "def time_needed(iId):\n",
    "    mycol = mydb[\"event\"]\n",
    "    #issue when the value is closed\n",
    "    oi = ObjectId(iId)\n",
    "\n",
    "    mydoc1 = mycol.find({'status':\"status\",'new_value':\"Closed\",'issue_id':oi})\n",
    "    df1 =  pd.DataFrame(mydoc1)\n",
    "    time_close = df1.loc[0][\"created_at\"]\n",
    "\n",
    "\n",
    "    #issue when the value is open\n",
    "    mydoc2 = mycol.find({'status':\"status\",'new_value':\"Open\",'issue_id':oi})\n",
    "    df2 =  pd.DataFrame(mydoc2)\n",
    "    time_open = df2['created_at'].loc[df2.index[0]]\n",
    "\n",
    "    time = time_close - time_open\n",
    "    time_hours = time.total_seconds()/3600\n",
    "    return time_hours\n",
    "\n"
   ]
  },
  {
   "cell_type": "code",
   "execution_count": 143,
   "outputs": [
    {
     "data": {
      "text/plain": "25269105.855"
     },
     "execution_count": 143,
     "metadata": {},
     "output_type": "execute_result"
    }
   ],
   "source": [
    "time_needed(iId='58bfd11a0ccb2667fe27318b')"
   ],
   "metadata": {
    "collapsed": false,
    "pycharm": {
     "name": "#%%\n"
    }
   }
  },
  {
   "cell_type": "markdown",
   "metadata": {
    "pycharm": {
     "name": "#%% md\n"
    }
   },
   "source": [
    "## 1.1- Event"
   ]
  },
  {
   "cell_type": "markdown",
   "source": [
    "    1.1.1 Get the data from the Database and removing unnecessary field."
   ],
   "metadata": {
    "collapsed": false,
    "pycharm": {
     "name": "#%% md\n"
    }
   }
  },
  {
   "cell_type": "code",
   "execution_count": null,
   "outputs": [],
   "source": [
    "lmt = 8000\n",
    "mycol = mydb[\"event\"]\n",
    "#Dataframe when the value is closed\n",
    "mydoc1 = mycol.find({'status':\"status\",'new_value':\"Closed\"}).limit(lmt)\n",
    "df1 =  pd.DataFrame(list(mydoc1))\n",
    "df1.drop(['external_id','author_id','status','_id','old_value'], axis=1,inplace=True)\n",
    "#Dataframe when the value is open\n",
    "mydoc2 = mycol.find({'status':\"status\",'new_value':\"Open\"}).limit(lmt)\n",
    "df2 =  pd.DataFrame(list(mydoc2))\n",
    "df2.drop(['external_id','author_id','status','_id','old_value'], axis=1,inplace=True)\n",
    "#merging the value\n",
    "df3 = pd.merge(df1,df2,how='inner',on='issue_id')\n",
    "\n",
    "df3.to_csv('event.csv', encoding='utf-8', index=False)\n",
    "\n"
   ],
   "metadata": {
    "collapsed": false,
    "pycharm": {
     "name": "#%%\n"
    }
   }
  },
  {
   "cell_type": "markdown",
   "source": [
    "    1.1.2 Join the dataframe with the column of the time necessary to be solved"
   ],
   "metadata": {
    "collapsed": false,
    "pycharm": {
     "name": "#%% md\n"
    }
   }
  },
  {
   "cell_type": "code",
   "execution_count": null,
   "outputs": [],
   "source": [],
   "metadata": {
    "collapsed": false,
    "pycharm": {
     "name": "#%%\n"
    }
   }
  },
  {
   "cell_type": "markdown",
   "metadata": {
    "pycharm": {
     "name": "#%% md\n"
    }
   },
   "source": [
    "## 1.2- Issue"
   ]
  },
  {
   "cell_type": "markdown",
   "source": [
    "    1.2.1 Get the data from the Database and removing unnecessary field."
   ],
   "metadata": {
    "collapsed": false,
    "pycharm": {
     "name": "#%% md\n"
    }
   }
  },
  {
   "cell_type": "code",
   "execution_count": null,
   "metadata": {
    "pycharm": {
     "name": "#%%\n"
    }
   },
   "outputs": [],
   "source": [
    "mycol = mydb[\"issue\"]\n",
    "mydoc = mycol.find().limit(5000)\n",
    "df =  pd.DataFrame(mydoc)\n",
    "df.drop(['external_id','issue_system_id','title','desc','created_at','updated_at','creator_id','reporter_id','affects_versions','resolution','fix_versions','issue_links','assignee_id','parent_issue_id','original_time_estimate','labels','status','environment','issue_type_manual','issue_type_verified'], axis=1,inplace=True)\n",
    "df.dropna(inplace=True)\n",
    "df.to_csv('issue.csv', encoding='utf-8', index=False)\n"
   ]
  },
  {
   "cell_type": "markdown",
   "source": [
    "    1.2.2 Selection of issues that have been solved"
   ],
   "metadata": {
    "collapsed": false,
    "pycharm": {
     "name": "#%% md\n"
    }
   }
  },
  {
   "cell_type": "code",
   "execution_count": null,
   "outputs": [],
   "source": [
    "df_csv = pd.read_csv('issue.csv')\n",
    "mycol = mydb[\"event\"]\n",
    "\n",
    "#df[df[mycol.find({'status':\"status\",'new_value':\"Open\",'issue_id':col_obj.values}).count()>0]]\n",
    "list = []\n",
    "for i in range (314):\n",
    "    oid = df_csv.iloc[i]['_id']\n",
    "    print(i)\n",
    "    if mycol.find({'status':\"status\",'new_value':\"Open\",'issue_id':ObjectId(f'{oid}')}).count()==0 or mycol.find({'status':\"status\",'new_value':\"Closed\",'issue_id':ObjectId(f'{oid}')}).count()==0:\n",
    "\n",
    "        list.append(i)\n",
    "\n",
    "df_csv.drop(list,inplace=True)\n",
    "df_csv.to_csv('issue.csv', encoding='utf-8', index=False)\n"
   ],
   "metadata": {
    "collapsed": false,
    "pycharm": {
     "name": "#%%\n"
    }
   }
  },
  {
   "cell_type": "markdown",
   "source": [
    "    1.2.3 Join the dataframe with the column of the time necessary to be solved"
   ],
   "metadata": {
    "collapsed": false,
    "pycharm": {
     "name": "#%% md\n"
    }
   }
  },
  {
   "cell_type": "code",
   "execution_count": 144,
   "outputs": [],
   "source": [
    "list = []\n",
    "\n",
    "for i in range (314):\n",
    "    list.append(time_needed(df_csv.iloc[i]['_id']))\n",
    "\n",
    "df_wtn = df_csv.assign(time_needed = list)\n",
    "df_wtn.to_csv('issue.csv', encoding='utf-8', index=False)\n"
   ],
   "metadata": {
    "collapsed": false,
    "pycharm": {
     "name": "#%%\n"
    }
   }
  },
  {
   "cell_type": "markdown",
   "metadata": {
    "pycharm": {
     "name": "#%% md\n"
    }
   },
   "source": []
  },
  {
   "cell_type": "markdown",
   "source": [
    "    1.2.4 issue type with the time necessary to be done"
   ],
   "metadata": {
    "collapsed": false,
    "pycharm": {
     "name": "#%% md\n"
    }
   }
  },
  {
   "cell_type": "code",
   "execution_count": 136,
   "outputs": [],
   "source": [
    "df_it = pd.read_csv('issue.csv')\n",
    "df_it.drop(['priority','components'],inplace=True,axis=1)\n",
    "d = df_it.groupby('issue_type')\n",
    "df_it.to_csv('issue@issue_type.csv', encoding='utf-8', index=False)"
   ],
   "metadata": {
    "collapsed": false,
    "pycharm": {
     "name": "#%%\n"
    }
   }
  },
  {
   "cell_type": "code",
   "execution_count": 132,
   "outputs": [
    {
     "data": {
      "text/plain": "                                  _id               time_needed\nissue_type                                                     \nBug          58bfd11a0ccb2667fe27318b  292 days 11:11:45.855000\nImprovement  58bfcb820ccb2667fe26af47   28 days 20:47:58.040000\nNew Feature  58bfcb8d0ccb2667fe26b065   74 days 23:55:25.285000\nSub-task     58bfd1cc0ccb2667fe273e6b  280 days 23:43:54.149000\nTask         58bfcbf00ccb2667fe26b91c  191 days 22:54:38.682000",
      "text/html": "<div>\n<style scoped>\n    .dataframe tbody tr th:only-of-type {\n        vertical-align: middle;\n    }\n\n    .dataframe tbody tr th {\n        vertical-align: top;\n    }\n\n    .dataframe thead th {\n        text-align: right;\n    }\n</style>\n<table border=\"1\" class=\"dataframe\">\n  <thead>\n    <tr style=\"text-align: right;\">\n      <th></th>\n      <th>_id</th>\n      <th>time_needed</th>\n    </tr>\n    <tr>\n      <th>issue_type</th>\n      <th></th>\n      <th></th>\n    </tr>\n  </thead>\n  <tbody>\n    <tr>\n      <th>Bug</th>\n      <td>58bfd11a0ccb2667fe27318b</td>\n      <td>292 days 11:11:45.855000</td>\n    </tr>\n    <tr>\n      <th>Improvement</th>\n      <td>58bfcb820ccb2667fe26af47</td>\n      <td>28 days 20:47:58.040000</td>\n    </tr>\n    <tr>\n      <th>New Feature</th>\n      <td>58bfcb8d0ccb2667fe26b065</td>\n      <td>74 days 23:55:25.285000</td>\n    </tr>\n    <tr>\n      <th>Sub-task</th>\n      <td>58bfd1cc0ccb2667fe273e6b</td>\n      <td>280 days 23:43:54.149000</td>\n    </tr>\n    <tr>\n      <th>Task</th>\n      <td>58bfcbf00ccb2667fe26b91c</td>\n      <td>191 days 22:54:38.682000</td>\n    </tr>\n  </tbody>\n</table>\n</div>"
     },
     "execution_count": 132,
     "metadata": {},
     "output_type": "execute_result"
    }
   ],
   "source": [],
   "metadata": {
    "collapsed": false,
    "pycharm": {
     "name": "#%%\n"
    }
   }
  },
  {
   "cell_type": "markdown",
   "source": [
    "    1.2.5 priority with the time necessary to be done"
   ],
   "metadata": {
    "collapsed": false,
    "pycharm": {
     "name": "#%% md\n"
    }
   }
  },
  {
   "cell_type": "code",
   "execution_count": 118,
   "outputs": [],
   "source": [
    "dp = pd.read_csv('issue.csv')\n",
    "dp.drop(['issue_type','components'],inplace=True,axis=1)\n",
    "dp.to_csv('issue@priority.csv', encoding='utf-8', index=False)"
   ],
   "metadata": {
    "collapsed": false,
    "pycharm": {
     "name": "#%%\n"
    }
   }
  },
  {
   "cell_type": "code",
   "execution_count": 116,
   "outputs": [],
   "source": [],
   "metadata": {
    "collapsed": false,
    "pycharm": {
     "name": "#%%\n"
    }
   }
  }
 ],
 "metadata": {
  "kernelspec": {
   "display_name": "Python 3 (ipykernel)",
   "language": "python",
   "name": "python3"
  },
  "language_info": {
   "codemirror_mode": {
    "name": "ipython",
    "version": 3
   },
   "file_extension": ".py",
   "mimetype": "text/x-python",
   "name": "python",
   "nbconvert_exporter": "python",
   "pygments_lexer": "ipython3",
   "version": "3.10.6"
  }
 },
 "nbformat": 4,
 "nbformat_minor": 1
}