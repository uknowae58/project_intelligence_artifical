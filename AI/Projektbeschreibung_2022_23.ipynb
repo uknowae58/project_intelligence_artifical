{
 "cells": [
  {
   "cell_type": "markdown",
   "metadata": {},
   "source": [
    "# Grundlagen der KI - Gruppenprojekte\n",
    "\n",
    "\n",
    "Für die Projekte stellen wir eine MongoDB Datenbank, die wir aktiv in der Forschung nutzen, zur Verfügung. Die Datenbank beinhaltet Informationen über Versionskontrollsysteme, Issuetracker, und Mailinglisten von Open Source Projekten. [Die Dokumentation der Datenbank finden Sie Online](https://smartshark2.informatik.uni-goettingen.de/documentation/).\n",
    "\n",
    "## Die Aufgabe\n",
    "\n",
    "Ihre Aufgabe ist es, einen automatisierten Ansatz zu entwickeln, welcher vorhersagt, ob ein Issue innerhalb von 6 Monaten behoben wird oder nicht. Darüber hinaus, sollte das Modell (oder auch ein zweites Modell) in der Lage sein, die erwartete Zeit für die Behebung und damit Schließung des Issues vorherzusagen.\n",
    "Sie können dazu beliebige Informationen aus der Datenbank nutzen, wie z.B. Commits, andere Issues, Mails und Änderungen in den Dateien.\n",
    "Sie müssen diese Problemstellung als Analyseproblem fassen um dann Modelle zur Lösung aufstellen zu können. Hierzu müssen Sie geeignete Analysemethoden auswählen und anschließend die Qualität der Ergebnisse evaluieren. \n",
    "\n",
    "## Präsentationen\n",
    "\n",
    "**Alle Gruppen müssen ihre Ergebnisse in der letzten Vorlesung am 09.02. um 16:15 Uhr vorstellen.** Hierzu muss jede Gruppe eine kurze Präsentation halten. In dieser Präsentation sollten Sie kurz beschreiben wie Sie vorgegangen sind, wie Sie Features erstellt haben, welche Modelle Sie benutzt haben und was ihre wichtigsten Ergebnisse sind. Die Zeit für die Präsentation beträgt 9 (1) Minuten.\n",
    "\n",
    "Im Anschluss an die Präsentation stimmen die Anwesenden über das beste Projekt ab. Jede Gruppe stimmt für das beste Projekt (3 Punkte), das zweitbeste (2 Punkte) und das drittbeste (1 Punkt). Das Projekt mit den meisten Punkten gewinnt einen Preis.\n",
    "\n",
    "Die Präsentation wird in Präsenz stattfinden, wenn die aktuellen Regeln es zulassen (Prof. Herbold wird dabei per Video zugeschaltet sein; Raum wird noch bekannt gegeben). Da wir nur begrenzt Zeit haben, müssen alle Präsentationen vorab geschickt werden. Wir kombinieren diese dann in einer PDF um einen einfachen Wechsel zwischen den Präsentation der Gruppen zu erreichen. Die Mitglieder der Gruppe werden dann in der Reihenfolge des Gruppennames gebeten ihre Ergebnisse vorzustellen, d.h. wir beginnen mit Gruppe 1 und enden mit Gruppe 6.\n",
    "\n",
    "\n",
    "## Abgabe der Präsentationen\n",
    "\n",
    "Damit die Präsentation reibungslos ablaufen, müssen Sie ihre Präsentation im Vorfeld einsenden. **Schicken Sie Ihre Präsentationen bitte bis spätestens zum 08.02.23, 16 Uhr an Clemens Dierks via Email (clemens.dierks@tu-clausthal.de)**. Die Präsentation muss als PDF vorliegen.\n",
    "\n",
    "\n",
    "## Mindestkriterien\n",
    "\n",
    "Die folgenden Kriterien muss ein Projekt mindestens erfüllen, damit die Gruppenmitglieder an der Prüfung teilnehmen können.\n",
    "- Es muss ein Modell für die automatisierte Vorhersage, ob ein Issue innerhalb von 6 Monaten gelöst wird, vorhanden sein.\n",
    "- Es muss ein Modell für die automatisierte Vorhersage der estimated-time-to-fix von Issues vorhanden sein.\n",
    "- Die Qualität des Modells muss bewertet werden.\n",
    "- Sie müssen eine Empfehlung geben, ob und ggf. unter welchen Umständen, das Modell eingesetzt werden kann basierend auf der Evaluation der Qualität des Modells.\n",
    "- Aufgrund Ihrer Empfehlung können Sie noch Verbesserungsmöglichkeiten vorstellen.\n",
    "- Die Ergebnisse müssen in der Vorlesung am 09.02.23 vorgestellt werden.\n",
    "\n",
    "## Datenbankzugriff\n",
    "\n",
    "Unterhalb finden Sie ein Beispiel, wie Sie auf die Datenbank zugreifen. Die Datenbank befindet sich hinter einer Firewall und kann nur aus dem Netz der TU Clausthal erreicht werden. Wenn Sie Probleme haben die Datenbank zu erreichen, können Sie von jedem beliebigen Netzwerk aus in das Netz der TU Clausthal gelangen, in dem Sie sich mit dem [VPN](https://doku.tu-clausthal.de/doku.php?id=netzwerk_und_internet:vpn:start) verbinden.\n",
    "\n",
    "**WARNUNG:\n",
    "Wir benutzen die Datenbank aktiv in der Forschung. Es kann daher sein, das teilweise eine sehr hohe Last auf der Datenbank ist. Die Datenbank ist sehr groß und beinhaltet derzeit 4.8 Terabyte an Daten. Sie sollten daher nicht einfach starten Anfragen zu schreiben, sondern sich genau überlegen auf welche Informationen Sie zugreifen wollen. Wenn Sie zum Beispiel eine Anfrage stellen, in der Sie die komplette ```commit``` Collection herunterladen möchten, müssen Sie hierfür 158 Gigabyte an Daten runterladen. **\n",
    "\n",
    "Sie können die Bibliothek [pycoSHARK](https://github.com/smartshark/pycoshark) zum Zugriff auf die Datenbank nutzen. Der pycoSHARK stellt einen ORM-Layer basierend auf der Bibliothek ```mongoengine``` zur Verfügung. Hierdurch können Sie die Datenbanktabellen wie Objekte behandeln. Alternativ können Sie die native MongoDB API der ```pymongo``` Bibliothek benutzen. \n",
    "\n",
    "Der Quelltext unten beinhaltet Ihre Zugangsdaten in zeigt wie man mit dem pycoSHARK auf die Datenbank zugreift."
   ]
  },
  {
   "cell_type": "code",
   "execution_count": 8,
   "metadata": {},
   "outputs": [],
   "source": [
    "# Installation des pycoSHARKs\n",
    "import sys\n",
    "# !{sys.executable} -m pip install pycoshark"
   ]
  },
  {
   "cell_type": "code",
   "execution_count": 9,
   "metadata": {},
   "outputs": [],
   "source": [
    "from mongoengine import connect\n",
    "from pycoshark.mongomodels import File, FileAction, Commit, Project, VCSSystem, IssueSystem\n",
    "from pycoshark.utils import create_mongodb_uri_string\n",
    "import pymongo\n",
    "import pandas as pd\n",
    "\n",
    "# Database credentials\n",
    "user = 'grundlagenki2021'\n",
    "password = '38BTGx71d'\n",
    "host = '134.76.81.151'\n",
    "port = '27017'\n",
    "authentication_db = 'smartshark'\n",
    "database = \"smartshark\"\n",
    "ssl_enabled = None\n",
    "\n",
    "# Establish connection\n",
    "uri = create_mongodb_uri_string(user, password, host, port, authentication_db, ssl_enabled)\n",
    "\n",
    "myclient = pymongo.MongoClient(uri)\n",
    "mydb = myclient[\"smartshark\"]\n"
   ]
  },
  {
   "cell_type": "markdown",
   "source": [
    "Event"
   ],
   "metadata": {
    "collapsed": false
   }
  },
  {
   "cell_type": "code",
   "execution_count": 10,
   "outputs": [
    {
     "data": {
      "text/plain": "                         _id  external_id                  issue_id  \\\n0   58bfc51f75da6d1bb61669e1  12608068%%0  58bfc51f75da6d1bb61669e0   \n1   58bfc52775da6d1bb6166a2d  12607831%%0  58bfc52775da6d1bb6166a25   \n2   58bfc53575da6d1bb6166a96  12607100%%0  58bfc53475da6d1bb6166a83   \n3   58bfc53575da6d1bb6166a97  12607089%%0  58bfc53475da6d1bb6166a83   \n4   58bfca990ccb2667fe269e21  12607831%%0  58bfca990ccb2667fe269e19   \n..                       ...          ...                       ...   \n95  58bfceed0ccb2667fe26fb32  13869772%%1  58bfccbc0ccb2667fe26c6e9   \n96  58bfceed0ccb2667fe26fb33  13869772%%2  58bfccbc0ccb2667fe26c6e9   \n97  58bfcef00ccb2667fe26fb46  13870306%%0  58bfcef00ccb2667fe26fb45   \n98  58bfcef00ccb2667fe26fb47  13869982%%0  58bfcef00ccb2667fe26fb45   \n99  58bfcef00ccb2667fe26fb49  13869032%%0  58bfcef00ccb2667fe26fb45   \n\n                created_at        status                 author_id  \\\n0  2008-06-17 14:57:32.125    components  58b938adf04620b39bfccf95   \n1  2008-06-16 19:00:09.985   assignee_id  58b938adf04620b395fccf94   \n2  2008-06-12 15:14:25.613    Attachment  58b938acf04620b370fccf94   \n3  2008-06-12 14:14:39.710   assignee_id  58b938acf04620b370fccf94   \n4  2008-06-16 19:00:09.985   assignee_id  58b938adf04620b395fccf94   \n..                     ...           ...                       ...   \n95 2013-10-02 00:10:46.810  fix_versions  58b938adf04620b395fccf94   \n96 2013-10-02 00:10:46.810    resolution  58b938adf04620b395fccf94   \n97 2013-10-02 16:16:46.098   issue_links  58bfce8e02ca40f8bf147f10   \n98 2013-10-02 09:58:43.016        status  58bfce8e02ca40f8bf147f10   \n99 2013-10-01 08:10:09.937    Attachment  58bfce8e02ca40f8bf147f10   \n\n                                            new_value  \\\n0                                         java client   \n1                            58bfc521e4f89451f55cdefb   \n2                                     patch-le-polish   \n3                            58b938acf04620b370fccf94   \n4                            58bfc521e4f89451f55cdefb   \n..                                                ...   \n95                                                NaN   \n96                                      Not A Problem   \n97  {'issue_id': 58bfcef00ccb2667fe26fb44, 'type':...   \n98                                           Resolved   \n99                                          snaps.tar   \n\n                   old_value  \n0                        NaN  \n1   58b938adf04620b395fccf94  \n2                        NaN  \n3                        NaN  \n4   58b938adf04620b395fccf94  \n..                       ...  \n95                     3.3.0  \n96                       NaN  \n97                       NaN  \n98                  Reopened  \n99                       NaN  \n\n[100 rows x 8 columns]",
      "text/html": "<div>\n<style scoped>\n    .dataframe tbody tr th:only-of-type {\n        vertical-align: middle;\n    }\n\n    .dataframe tbody tr th {\n        vertical-align: top;\n    }\n\n    .dataframe thead th {\n        text-align: right;\n    }\n</style>\n<table border=\"1\" class=\"dataframe\">\n  <thead>\n    <tr style=\"text-align: right;\">\n      <th></th>\n      <th>_id</th>\n      <th>external_id</th>\n      <th>issue_id</th>\n      <th>created_at</th>\n      <th>status</th>\n      <th>author_id</th>\n      <th>new_value</th>\n      <th>old_value</th>\n    </tr>\n  </thead>\n  <tbody>\n    <tr>\n      <th>0</th>\n      <td>58bfc51f75da6d1bb61669e1</td>\n      <td>12608068%%0</td>\n      <td>58bfc51f75da6d1bb61669e0</td>\n      <td>2008-06-17 14:57:32.125</td>\n      <td>components</td>\n      <td>58b938adf04620b39bfccf95</td>\n      <td>java client</td>\n      <td>NaN</td>\n    </tr>\n    <tr>\n      <th>1</th>\n      <td>58bfc52775da6d1bb6166a2d</td>\n      <td>12607831%%0</td>\n      <td>58bfc52775da6d1bb6166a25</td>\n      <td>2008-06-16 19:00:09.985</td>\n      <td>assignee_id</td>\n      <td>58b938adf04620b395fccf94</td>\n      <td>58bfc521e4f89451f55cdefb</td>\n      <td>58b938adf04620b395fccf94</td>\n    </tr>\n    <tr>\n      <th>2</th>\n      <td>58bfc53575da6d1bb6166a96</td>\n      <td>12607100%%0</td>\n      <td>58bfc53475da6d1bb6166a83</td>\n      <td>2008-06-12 15:14:25.613</td>\n      <td>Attachment</td>\n      <td>58b938acf04620b370fccf94</td>\n      <td>patch-le-polish</td>\n      <td>NaN</td>\n    </tr>\n    <tr>\n      <th>3</th>\n      <td>58bfc53575da6d1bb6166a97</td>\n      <td>12607089%%0</td>\n      <td>58bfc53475da6d1bb6166a83</td>\n      <td>2008-06-12 14:14:39.710</td>\n      <td>assignee_id</td>\n      <td>58b938acf04620b370fccf94</td>\n      <td>58b938acf04620b370fccf94</td>\n      <td>NaN</td>\n    </tr>\n    <tr>\n      <th>4</th>\n      <td>58bfca990ccb2667fe269e21</td>\n      <td>12607831%%0</td>\n      <td>58bfca990ccb2667fe269e19</td>\n      <td>2008-06-16 19:00:09.985</td>\n      <td>assignee_id</td>\n      <td>58b938adf04620b395fccf94</td>\n      <td>58bfc521e4f89451f55cdefb</td>\n      <td>58b938adf04620b395fccf94</td>\n    </tr>\n    <tr>\n      <th>...</th>\n      <td>...</td>\n      <td>...</td>\n      <td>...</td>\n      <td>...</td>\n      <td>...</td>\n      <td>...</td>\n      <td>...</td>\n      <td>...</td>\n    </tr>\n    <tr>\n      <th>95</th>\n      <td>58bfceed0ccb2667fe26fb32</td>\n      <td>13869772%%1</td>\n      <td>58bfccbc0ccb2667fe26c6e9</td>\n      <td>2013-10-02 00:10:46.810</td>\n      <td>fix_versions</td>\n      <td>58b938adf04620b395fccf94</td>\n      <td>NaN</td>\n      <td>3.3.0</td>\n    </tr>\n    <tr>\n      <th>96</th>\n      <td>58bfceed0ccb2667fe26fb33</td>\n      <td>13869772%%2</td>\n      <td>58bfccbc0ccb2667fe26c6e9</td>\n      <td>2013-10-02 00:10:46.810</td>\n      <td>resolution</td>\n      <td>58b938adf04620b395fccf94</td>\n      <td>Not A Problem</td>\n      <td>NaN</td>\n    </tr>\n    <tr>\n      <th>97</th>\n      <td>58bfcef00ccb2667fe26fb46</td>\n      <td>13870306%%0</td>\n      <td>58bfcef00ccb2667fe26fb45</td>\n      <td>2013-10-02 16:16:46.098</td>\n      <td>issue_links</td>\n      <td>58bfce8e02ca40f8bf147f10</td>\n      <td>{'issue_id': 58bfcef00ccb2667fe26fb44, 'type':...</td>\n      <td>NaN</td>\n    </tr>\n    <tr>\n      <th>98</th>\n      <td>58bfcef00ccb2667fe26fb47</td>\n      <td>13869982%%0</td>\n      <td>58bfcef00ccb2667fe26fb45</td>\n      <td>2013-10-02 09:58:43.016</td>\n      <td>status</td>\n      <td>58bfce8e02ca40f8bf147f10</td>\n      <td>Resolved</td>\n      <td>Reopened</td>\n    </tr>\n    <tr>\n      <th>99</th>\n      <td>58bfcef00ccb2667fe26fb49</td>\n      <td>13869032%%0</td>\n      <td>58bfcef00ccb2667fe26fb45</td>\n      <td>2013-10-01 08:10:09.937</td>\n      <td>Attachment</td>\n      <td>58bfce8e02ca40f8bf147f10</td>\n      <td>snaps.tar</td>\n      <td>NaN</td>\n    </tr>\n  </tbody>\n</table>\n<p>100 rows × 8 columns</p>\n</div>"
     },
     "execution_count": 10,
     "metadata": {},
     "output_type": "execute_result"
    }
   ],
   "source": [
    "mycol = mydb[\"event\"]\n",
    "\n",
    "mydoc = mycol.find().limit(100)\n",
    "df =  pd.DataFrame(list(mydoc))\n",
    "df.head(100)"
   ],
   "metadata": {
    "collapsed": false
   }
  },
  {
   "cell_type": "markdown",
   "source": [
    "Issue"
   ],
   "metadata": {
    "collapsed": false
   }
  },
  {
   "cell_type": "code",
   "execution_count": 11,
   "outputs": [
    {
     "data": {
      "text/plain": "                         _id     external_id           issue_system_id  \\\n0   58bfcb5a0ccb2667fe26acb5   ZOOKEEPER-306  58bfca8e0ccb2667fe269dd0   \n1   58bfcf9f0ccb2667fe270f92    ZOOKEEPER-10  58bfca8e0ccb2667fe269dd0   \n2   58bfcfa50ccb2667fe270fda  ZOOKEEPER-1263  58bfca8e0ccb2667fe269dd0   \n3   58bfcfac0ccb2667fe271090  ZOOKEEPER-1807  58bfca8e0ccb2667fe269dd0   \n4   58bfcfb30ccb2667fe27116f  ZOOKEEPER-1906  58bfca8e0ccb2667fe269dd0   \n..                       ...             ...                       ...   \n95  58bfcb820ccb2667fe26af47   ZOOKEEPER-356  58bfca8e0ccb2667fe269dd0   \n96  58bfcec40ccb2667fe26f803   ZOOKEEPER-369  58bfca8e0ccb2667fe269dd0   \n97  58bfcff40ccb2667fe271492   ZOOKEEPER-364  58bfca8e0ccb2667fe269dd0   \n98  58bfcb4b0ccb2667fe26ab9c     HADOOP-3532  58bfca8e0ccb2667fe269dd0   \n99  58bfcba70ccb2667fe26b28e      HBASE-1449  58bfca8e0ccb2667fe269dd0   \n\n                                                title  \\\n0                        Add BookKeeper documentation   \n1                                   Bad error message   \n2   fix handling of min/max session timeout value ...   \n3   Observers spam each other creating connections...   \n4    zkpython: invalid data in GetData for empty node   \n..                                                ...   \n95   Masking bookie failure during writes to a ledger   \n96         remove multiple configs in server/quorums.   \n97              command line interface for zookeeper.   \n98                                                NaN   \n99                                                NaN   \n\n                                                 desc              created_at  \\\n0        Add detailed documentation about BookKeeper. 2009-02-09 16:59:21.140   \n1   Moved from SourceForge to Apache.\\r\\nhttp://so... 2008-06-10 21:09:10.268   \n2   This task rolls up the changes in subtasks for... 2011-10-27 21:47:02.449   \n3   Hey [~shralex],\\n\\nI noticed today that my Obs... 2013-11-01 23:32:47.213   \n4   In python if we ask {{zookeeper.get}} (which t... 2014-03-31 07:52:07.519   \n..                                                ...                     ...   \n95  The idea of this jira is to work out the chang... 2009-03-27 12:18:30.698   \n96  currently we have mutliple configs serverconfi... 2009-04-06 22:17:41.731   \n97  currently we have a shell based interface for ... 2009-04-03 17:38:03.392   \n98                                                NaN                     NaT   \n99                                                NaN                     NaT   \n\n                updated_at                creator_id  \\\n0  2009-07-08 20:23:57.266  58b938acf04620b370fccf94   \n1  2014-03-15 00:20:02.598  58b938adf04620b395fccf94   \n2  2015-07-20 10:54:16.593  58b938adf04620b395fccf94   \n3  2018-05-10 20:01:29.813  5bbf0f5957674ee16743524a   \n4  2014-04-02 11:10:38.206  58bfce1b02ca40f8bf147ee2   \n..                     ...                       ...   \n95 2009-07-08 20:24:02.258  58b938acf04620b370fccf94   \n96 2014-04-23 20:43:40.178  58bfc52602ca40f8bf147852   \n97 2014-04-23 20:34:59.615  58bfc52602ca40f8bf147852   \n98                     NaT                       NaN   \n99                     NaT                       NaN   \n\n                 reporter_id   issue_type  ...              affects_versions  \\\n0   58b938acf04620b370fccf94  Improvement  ...                       [3.1.0]   \n1   58b938adf04620b395fccf94          Bug  ...                            []   \n2   58b938adf04620b395fccf94         Task  ...                           NaN   \n3   5bbf0f5957674ee16743524a          Bug  ...                           NaN   \n4   58bfce1b02ca40f8bf147ee2          Bug  ...                [3.4.6, 3.5.0]   \n..                       ...          ...  ...                           ...   \n95  58b938acf04620b370fccf94  Improvement  ...                            []   \n96  58bfc52602ca40f8bf147852  Improvement  ...  [3.0.1, 3.0.0, 3.1.0, 3.1.1]   \n97  58bfc52602ca40f8bf147852  New Feature  ...  [3.0.1, 3.0.0, 3.1.0, 3.1.1]   \n98                       NaN          NaN  ...                            []   \n99                       NaN          NaN  ...                            []   \n\n              components labels resolution           fix_versions  \\\n0   [contrib-bookkeeper]     []  Duplicate                [3.2.0]   \n1               [server]     []    Invalid                [3.5.0]   \n2               [server]    NaN      Fixed                [3.5.0]   \n3                    NaN    NaN      Fixed  [3.5.3, 3.5.4, 3.6.0]   \n4     [contrib-bindings]     []      Fixed         [3.5.0, 3.4.7]   \n..                   ...    ...        ...                    ...   \n95  [contrib-bookkeeper]     []      Fixed                [3.2.0]   \n96                   NaN    NaN        NaN                [3.6.0]   \n97                    []     []    Invalid                [3.5.0]   \n98                    []     []        NaN                     []   \n99                    []     []        NaN                     []   \n\n                                          issue_links  \\\n0                                                  []   \n1                                                  []   \n2   [{'effect': 'is related to', 'type': 'Referenc...   \n3   [{'effect': 'relates to', 'issue_id': 58bfd1cc...   \n4                                                  []   \n..                                                ...   \n95                                                 []   \n96  [{'effect': 'is related to', 'type': 'Referenc...   \n97  [{'effect': 'is related to', 'type': 'Referenc...   \n98                                                 []   \n99                                                 []   \n\n                 assignee_id environment parent_issue_id  \\\n0                        NaN         NaN             NaN   \n1   58b938adf04620b395fccf94         NaN             NaN   \n2   58bfccf502ca40f8bf147eb3         NaN             NaN   \n3   5bbf0f3f57674ee167431f62         NaN             NaN   \n4   58bfce1b02ca40f8bf147ee2     FreeBSD             NaN   \n..                       ...         ...             ...   \n95  58b938acf04620b370fccf94         NaN             NaN   \n96                       NaN         NaN             NaN   \n97  58b938adf04620b395fccf94         NaN             NaN   \n98                       NaN         NaN             NaN   \n99                       NaN         NaN             NaN   \n\n   original_time_estimate  \n0                     NaN  \n1                     NaN  \n2                     NaN  \n3                     NaN  \n4                     NaN  \n..                    ...  \n95                    NaN  \n96                    NaN  \n97                    NaN  \n98                    NaN  \n99                    NaN  \n\n[100 rows x 22 columns]",
      "text/html": "<div>\n<style scoped>\n    .dataframe tbody tr th:only-of-type {\n        vertical-align: middle;\n    }\n\n    .dataframe tbody tr th {\n        vertical-align: top;\n    }\n\n    .dataframe thead th {\n        text-align: right;\n    }\n</style>\n<table border=\"1\" class=\"dataframe\">\n  <thead>\n    <tr style=\"text-align: right;\">\n      <th></th>\n      <th>_id</th>\n      <th>external_id</th>\n      <th>issue_system_id</th>\n      <th>title</th>\n      <th>desc</th>\n      <th>created_at</th>\n      <th>updated_at</th>\n      <th>creator_id</th>\n      <th>reporter_id</th>\n      <th>issue_type</th>\n      <th>...</th>\n      <th>affects_versions</th>\n      <th>components</th>\n      <th>labels</th>\n      <th>resolution</th>\n      <th>fix_versions</th>\n      <th>issue_links</th>\n      <th>assignee_id</th>\n      <th>environment</th>\n      <th>parent_issue_id</th>\n      <th>original_time_estimate</th>\n    </tr>\n  </thead>\n  <tbody>\n    <tr>\n      <th>0</th>\n      <td>58bfcb5a0ccb2667fe26acb5</td>\n      <td>ZOOKEEPER-306</td>\n      <td>58bfca8e0ccb2667fe269dd0</td>\n      <td>Add BookKeeper documentation</td>\n      <td>Add detailed documentation about BookKeeper.</td>\n      <td>2009-02-09 16:59:21.140</td>\n      <td>2009-07-08 20:23:57.266</td>\n      <td>58b938acf04620b370fccf94</td>\n      <td>58b938acf04620b370fccf94</td>\n      <td>Improvement</td>\n      <td>...</td>\n      <td>[3.1.0]</td>\n      <td>[contrib-bookkeeper]</td>\n      <td>[]</td>\n      <td>Duplicate</td>\n      <td>[3.2.0]</td>\n      <td>[]</td>\n      <td>NaN</td>\n      <td>NaN</td>\n      <td>NaN</td>\n      <td>NaN</td>\n    </tr>\n    <tr>\n      <th>1</th>\n      <td>58bfcf9f0ccb2667fe270f92</td>\n      <td>ZOOKEEPER-10</td>\n      <td>58bfca8e0ccb2667fe269dd0</td>\n      <td>Bad error message</td>\n      <td>Moved from SourceForge to Apache.\\r\\nhttp://so...</td>\n      <td>2008-06-10 21:09:10.268</td>\n      <td>2014-03-15 00:20:02.598</td>\n      <td>58b938adf04620b395fccf94</td>\n      <td>58b938adf04620b395fccf94</td>\n      <td>Bug</td>\n      <td>...</td>\n      <td>[]</td>\n      <td>[server]</td>\n      <td>[]</td>\n      <td>Invalid</td>\n      <td>[3.5.0]</td>\n      <td>[]</td>\n      <td>58b938adf04620b395fccf94</td>\n      <td>NaN</td>\n      <td>NaN</td>\n      <td>NaN</td>\n    </tr>\n    <tr>\n      <th>2</th>\n      <td>58bfcfa50ccb2667fe270fda</td>\n      <td>ZOOKEEPER-1263</td>\n      <td>58bfca8e0ccb2667fe269dd0</td>\n      <td>fix handling of min/max session timeout value ...</td>\n      <td>This task rolls up the changes in subtasks for...</td>\n      <td>2011-10-27 21:47:02.449</td>\n      <td>2015-07-20 10:54:16.593</td>\n      <td>58b938adf04620b395fccf94</td>\n      <td>58b938adf04620b395fccf94</td>\n      <td>Task</td>\n      <td>...</td>\n      <td>NaN</td>\n      <td>[server]</td>\n      <td>NaN</td>\n      <td>Fixed</td>\n      <td>[3.5.0]</td>\n      <td>[{'effect': 'is related to', 'type': 'Referenc...</td>\n      <td>58bfccf502ca40f8bf147eb3</td>\n      <td>NaN</td>\n      <td>NaN</td>\n      <td>NaN</td>\n    </tr>\n    <tr>\n      <th>3</th>\n      <td>58bfcfac0ccb2667fe271090</td>\n      <td>ZOOKEEPER-1807</td>\n      <td>58bfca8e0ccb2667fe269dd0</td>\n      <td>Observers spam each other creating connections...</td>\n      <td>Hey [~shralex],\\n\\nI noticed today that my Obs...</td>\n      <td>2013-11-01 23:32:47.213</td>\n      <td>2018-05-10 20:01:29.813</td>\n      <td>5bbf0f5957674ee16743524a</td>\n      <td>5bbf0f5957674ee16743524a</td>\n      <td>Bug</td>\n      <td>...</td>\n      <td>NaN</td>\n      <td>NaN</td>\n      <td>NaN</td>\n      <td>Fixed</td>\n      <td>[3.5.3, 3.5.4, 3.6.0]</td>\n      <td>[{'effect': 'relates to', 'issue_id': 58bfd1cc...</td>\n      <td>5bbf0f3f57674ee167431f62</td>\n      <td>NaN</td>\n      <td>NaN</td>\n      <td>NaN</td>\n    </tr>\n    <tr>\n      <th>4</th>\n      <td>58bfcfb30ccb2667fe27116f</td>\n      <td>ZOOKEEPER-1906</td>\n      <td>58bfca8e0ccb2667fe269dd0</td>\n      <td>zkpython: invalid data in GetData for empty node</td>\n      <td>In python if we ask {{zookeeper.get}} (which t...</td>\n      <td>2014-03-31 07:52:07.519</td>\n      <td>2014-04-02 11:10:38.206</td>\n      <td>58bfce1b02ca40f8bf147ee2</td>\n      <td>58bfce1b02ca40f8bf147ee2</td>\n      <td>Bug</td>\n      <td>...</td>\n      <td>[3.4.6, 3.5.0]</td>\n      <td>[contrib-bindings]</td>\n      <td>[]</td>\n      <td>Fixed</td>\n      <td>[3.5.0, 3.4.7]</td>\n      <td>[]</td>\n      <td>58bfce1b02ca40f8bf147ee2</td>\n      <td>FreeBSD</td>\n      <td>NaN</td>\n      <td>NaN</td>\n    </tr>\n    <tr>\n      <th>...</th>\n      <td>...</td>\n      <td>...</td>\n      <td>...</td>\n      <td>...</td>\n      <td>...</td>\n      <td>...</td>\n      <td>...</td>\n      <td>...</td>\n      <td>...</td>\n      <td>...</td>\n      <td>...</td>\n      <td>...</td>\n      <td>...</td>\n      <td>...</td>\n      <td>...</td>\n      <td>...</td>\n      <td>...</td>\n      <td>...</td>\n      <td>...</td>\n      <td>...</td>\n      <td>...</td>\n    </tr>\n    <tr>\n      <th>95</th>\n      <td>58bfcb820ccb2667fe26af47</td>\n      <td>ZOOKEEPER-356</td>\n      <td>58bfca8e0ccb2667fe269dd0</td>\n      <td>Masking bookie failure during writes to a ledger</td>\n      <td>The idea of this jira is to work out the chang...</td>\n      <td>2009-03-27 12:18:30.698</td>\n      <td>2009-07-08 20:24:02.258</td>\n      <td>58b938acf04620b370fccf94</td>\n      <td>58b938acf04620b370fccf94</td>\n      <td>Improvement</td>\n      <td>...</td>\n      <td>[]</td>\n      <td>[contrib-bookkeeper]</td>\n      <td>[]</td>\n      <td>Fixed</td>\n      <td>[3.2.0]</td>\n      <td>[]</td>\n      <td>58b938acf04620b370fccf94</td>\n      <td>NaN</td>\n      <td>NaN</td>\n      <td>NaN</td>\n    </tr>\n    <tr>\n      <th>96</th>\n      <td>58bfcec40ccb2667fe26f803</td>\n      <td>ZOOKEEPER-369</td>\n      <td>58bfca8e0ccb2667fe269dd0</td>\n      <td>remove multiple configs in server/quorums.</td>\n      <td>currently we have mutliple configs serverconfi...</td>\n      <td>2009-04-06 22:17:41.731</td>\n      <td>2014-04-23 20:43:40.178</td>\n      <td>58bfc52602ca40f8bf147852</td>\n      <td>58bfc52602ca40f8bf147852</td>\n      <td>Improvement</td>\n      <td>...</td>\n      <td>[3.0.1, 3.0.0, 3.1.0, 3.1.1]</td>\n      <td>NaN</td>\n      <td>NaN</td>\n      <td>NaN</td>\n      <td>[3.6.0]</td>\n      <td>[{'effect': 'is related to', 'type': 'Referenc...</td>\n      <td>NaN</td>\n      <td>NaN</td>\n      <td>NaN</td>\n      <td>NaN</td>\n    </tr>\n    <tr>\n      <th>97</th>\n      <td>58bfcff40ccb2667fe271492</td>\n      <td>ZOOKEEPER-364</td>\n      <td>58bfca8e0ccb2667fe269dd0</td>\n      <td>command line interface for zookeeper.</td>\n      <td>currently we have a shell based interface for ...</td>\n      <td>2009-04-03 17:38:03.392</td>\n      <td>2014-04-23 20:34:59.615</td>\n      <td>58bfc52602ca40f8bf147852</td>\n      <td>58bfc52602ca40f8bf147852</td>\n      <td>New Feature</td>\n      <td>...</td>\n      <td>[3.0.1, 3.0.0, 3.1.0, 3.1.1]</td>\n      <td>[]</td>\n      <td>[]</td>\n      <td>Invalid</td>\n      <td>[3.5.0]</td>\n      <td>[{'effect': 'is related to', 'type': 'Referenc...</td>\n      <td>58b938adf04620b395fccf94</td>\n      <td>NaN</td>\n      <td>NaN</td>\n      <td>NaN</td>\n    </tr>\n    <tr>\n      <th>98</th>\n      <td>58bfcb4b0ccb2667fe26ab9c</td>\n      <td>HADOOP-3532</td>\n      <td>58bfca8e0ccb2667fe269dd0</td>\n      <td>NaN</td>\n      <td>NaN</td>\n      <td>NaT</td>\n      <td>NaT</td>\n      <td>NaN</td>\n      <td>NaN</td>\n      <td>NaN</td>\n      <td>...</td>\n      <td>[]</td>\n      <td>[]</td>\n      <td>[]</td>\n      <td>NaN</td>\n      <td>[]</td>\n      <td>[]</td>\n      <td>NaN</td>\n      <td>NaN</td>\n      <td>NaN</td>\n      <td>NaN</td>\n    </tr>\n    <tr>\n      <th>99</th>\n      <td>58bfcba70ccb2667fe26b28e</td>\n      <td>HBASE-1449</td>\n      <td>58bfca8e0ccb2667fe269dd0</td>\n      <td>NaN</td>\n      <td>NaN</td>\n      <td>NaT</td>\n      <td>NaT</td>\n      <td>NaN</td>\n      <td>NaN</td>\n      <td>NaN</td>\n      <td>...</td>\n      <td>[]</td>\n      <td>[]</td>\n      <td>[]</td>\n      <td>NaN</td>\n      <td>[]</td>\n      <td>[]</td>\n      <td>NaN</td>\n      <td>NaN</td>\n      <td>NaN</td>\n      <td>NaN</td>\n    </tr>\n  </tbody>\n</table>\n<p>100 rows × 22 columns</p>\n</div>"
     },
     "execution_count": 11,
     "metadata": {},
     "output_type": "execute_result"
    }
   ],
   "source": [
    "mycol = mydb[\"issue\"]\n",
    "\n",
    "mydoc = mycol.find().limit(100)\n",
    "df =  pd.DataFrame(list(mydoc))\n",
    "df.head(100)"
   ],
   "metadata": {
    "collapsed": false
   }
  },
  {
   "cell_type": "markdown",
   "source": [],
   "metadata": {
    "collapsed": false
   }
  },
  {
   "cell_type": "markdown",
   "source": [
    "issue comment"
   ],
   "metadata": {
    "collapsed": false
   }
  },
  {
   "cell_type": "code",
   "execution_count": 13,
   "outputs": [
    {
     "data": {
      "text/plain": "                         _id external_id                  issue_id  \\\n0   58bfce6f0ccb2667fe26f0a1    13539176  58bfce550ccb2667fe26ef38   \n1   58bfce700ccb2667fe26f0a4    13539488  58bfce700ccb2667fe26f0a2   \n2   58bfce710ccb2667fe26f0a8    13539874  58bfce710ccb2667fe26f0a5   \n3   58bfce720ccb2667fe26f0ae    13540445  58bfce720ccb2667fe26f0a9   \n4   58bfce720ccb2667fe26f0ba    13541026  58bfcc9a0ccb2667fe26c536   \n..                       ...         ...                       ...   \n95  58c1186d11e1802cacc26594    12407368  58c1186d11e1802cacc26584   \n96  58bfd43c0ccb2667fe2784db    15900748  58bfd42e0ccb2667fe278278   \n97  58c1187411e1802cacc265c0    12404432  58c1187411e1802cacc265b6   \n98  58c1187411e1802cacc265c2    12404434  58c1187411e1802cacc265b6   \n99  58c1187411e1802cacc265c3    12404435  58c1187411e1802cacc265b6   \n\n                created_at                 author_id  \\\n0  2012-12-24 04:18:07.240  58bfce55e4f89451f55ce126   \n1  2012-12-26 07:10:11.985  58bfccc5e4f89451f55ce102   \n2  2012-12-27 08:57:46.953  58b938acf04620b370fccf94   \n3  2012-12-28 12:35:51.738  58bfce1802ca40f8bf147edf   \n4  2012-12-29 23:47:28.647  58b938adf04620b393fccf94   \n..                     ...                       ...   \n95 2004-09-02 20:22:40.000  58c1150002ca40f8bfb1ef0d   \n96 2017-03-08 05:40:20.207  58bfd16d02ca40f8bf148410   \n97 2003-06-10 03:22:56.000  58bfd7aa3cff546cd9b42fc7   \n98 2003-06-11 12:54:02.000  58bfd7aa3cff546cd9b42fc7   \n99 2003-06-11 13:51:15.000  58bfd7aa3cff546cd9b42fc7   \n\n                                              comment  \n0                     It was fixed in ZOOKEEPER-1560.  \n1   I will be out of office today\\nPlease use the ...  \n2   Sounds like someone playing with the keyboard....  \n3   Fixed with https://issues.apache.org/jira/brow...  \n4   As Kapil pointed out, this functionality is im...  \n..                                                ...  \n95  Why does double[] getRow(int row) belong in th...  \n96  Hi Abe,\\r\\n\\r\\n{quote}\\r\\nbq.  if I understand...  \n97  Created an attachment (id=6720)\\nRandomDataImp...  \n98  Oops.  I summitted these things I hast.  I'll ...  \n99  Created an attachment (id=6750)\\nLatest patch ...  \n\n[100 rows x 6 columns]",
      "text/html": "<div>\n<style scoped>\n    .dataframe tbody tr th:only-of-type {\n        vertical-align: middle;\n    }\n\n    .dataframe tbody tr th {\n        vertical-align: top;\n    }\n\n    .dataframe thead th {\n        text-align: right;\n    }\n</style>\n<table border=\"1\" class=\"dataframe\">\n  <thead>\n    <tr style=\"text-align: right;\">\n      <th></th>\n      <th>_id</th>\n      <th>external_id</th>\n      <th>issue_id</th>\n      <th>created_at</th>\n      <th>author_id</th>\n      <th>comment</th>\n    </tr>\n  </thead>\n  <tbody>\n    <tr>\n      <th>0</th>\n      <td>58bfce6f0ccb2667fe26f0a1</td>\n      <td>13539176</td>\n      <td>58bfce550ccb2667fe26ef38</td>\n      <td>2012-12-24 04:18:07.240</td>\n      <td>58bfce55e4f89451f55ce126</td>\n      <td>It was fixed in ZOOKEEPER-1560.</td>\n    </tr>\n    <tr>\n      <th>1</th>\n      <td>58bfce700ccb2667fe26f0a4</td>\n      <td>13539488</td>\n      <td>58bfce700ccb2667fe26f0a2</td>\n      <td>2012-12-26 07:10:11.985</td>\n      <td>58bfccc5e4f89451f55ce102</td>\n      <td>I will be out of office today\\nPlease use the ...</td>\n    </tr>\n    <tr>\n      <th>2</th>\n      <td>58bfce710ccb2667fe26f0a8</td>\n      <td>13539874</td>\n      <td>58bfce710ccb2667fe26f0a5</td>\n      <td>2012-12-27 08:57:46.953</td>\n      <td>58b938acf04620b370fccf94</td>\n      <td>Sounds like someone playing with the keyboard....</td>\n    </tr>\n    <tr>\n      <th>3</th>\n      <td>58bfce720ccb2667fe26f0ae</td>\n      <td>13540445</td>\n      <td>58bfce720ccb2667fe26f0a9</td>\n      <td>2012-12-28 12:35:51.738</td>\n      <td>58bfce1802ca40f8bf147edf</td>\n      <td>Fixed with https://issues.apache.org/jira/brow...</td>\n    </tr>\n    <tr>\n      <th>4</th>\n      <td>58bfce720ccb2667fe26f0ba</td>\n      <td>13541026</td>\n      <td>58bfcc9a0ccb2667fe26c536</td>\n      <td>2012-12-29 23:47:28.647</td>\n      <td>58b938adf04620b393fccf94</td>\n      <td>As Kapil pointed out, this functionality is im...</td>\n    </tr>\n    <tr>\n      <th>...</th>\n      <td>...</td>\n      <td>...</td>\n      <td>...</td>\n      <td>...</td>\n      <td>...</td>\n      <td>...</td>\n    </tr>\n    <tr>\n      <th>95</th>\n      <td>58c1186d11e1802cacc26594</td>\n      <td>12407368</td>\n      <td>58c1186d11e1802cacc26584</td>\n      <td>2004-09-02 20:22:40.000</td>\n      <td>58c1150002ca40f8bfb1ef0d</td>\n      <td>Why does double[] getRow(int row) belong in th...</td>\n    </tr>\n    <tr>\n      <th>96</th>\n      <td>58bfd43c0ccb2667fe2784db</td>\n      <td>15900748</td>\n      <td>58bfd42e0ccb2667fe278278</td>\n      <td>2017-03-08 05:40:20.207</td>\n      <td>58bfd16d02ca40f8bf148410</td>\n      <td>Hi Abe,\\r\\n\\r\\n{quote}\\r\\nbq.  if I understand...</td>\n    </tr>\n    <tr>\n      <th>97</th>\n      <td>58c1187411e1802cacc265c0</td>\n      <td>12404432</td>\n      <td>58c1187411e1802cacc265b6</td>\n      <td>2003-06-10 03:22:56.000</td>\n      <td>58bfd7aa3cff546cd9b42fc7</td>\n      <td>Created an attachment (id=6720)\\nRandomDataImp...</td>\n    </tr>\n    <tr>\n      <th>98</th>\n      <td>58c1187411e1802cacc265c2</td>\n      <td>12404434</td>\n      <td>58c1187411e1802cacc265b6</td>\n      <td>2003-06-11 12:54:02.000</td>\n      <td>58bfd7aa3cff546cd9b42fc7</td>\n      <td>Oops.  I summitted these things I hast.  I'll ...</td>\n    </tr>\n    <tr>\n      <th>99</th>\n      <td>58c1187411e1802cacc265c3</td>\n      <td>12404435</td>\n      <td>58c1187411e1802cacc265b6</td>\n      <td>2003-06-11 13:51:15.000</td>\n      <td>58bfd7aa3cff546cd9b42fc7</td>\n      <td>Created an attachment (id=6750)\\nLatest patch ...</td>\n    </tr>\n  </tbody>\n</table>\n<p>100 rows × 6 columns</p>\n</div>"
     },
     "execution_count": 13,
     "metadata": {},
     "output_type": "execute_result"
    }
   ],
   "source": [
    "mycol = mydb[\"issue_comment\"]\n",
    "\n",
    "mydoc = mycol.find().limit(100)\n",
    "df =  pd.DataFrame(list(mydoc))\n",
    "df.head(100)"
   ],
   "metadata": {
    "collapsed": false
   }
  },
  {
   "cell_type": "markdown",
   "source": [
    "issue system"
   ],
   "metadata": {
    "collapsed": false
   }
  },
  {
   "cell_type": "code",
   "execution_count": 14,
   "outputs": [
    {
     "data": {
      "text/plain": "                         _id                project_id  \\\n0   58bfca8e0ccb2667fe269dd0  5ca4c6b26bcebe2f4003c6e4   \n1   58c8d8bb1cf3f06cf158fbd8  58c8979e0da3ef6363ccb8de   \n2   58c1131c537f8c637a3d5529  58bfd5860da3ef7cef464c78   \n3   58c8970ccba9df45732dbc5f  58c891b50da3ef6363ccb8dd   \n4   59bc19b55c7d7959fe8f58d7  59bbc64e0da3ef6c6a5056b7   \n..                       ...                       ...   \n95  60fd7fc69b5e644f88818b01  60a24a6992d37bcecc65bf82   \n96  60fd842d75ac9a34ac2ce726  60a24ac427ad48a9ceb48656   \n97  6153127ebc841b72899c7d60  61093a618d56179891397c7b   \n98  61531765061141410f0f92a5  610939f8a6eb327cba047eca   \n99  615ab6f91877e638eab15142  6110d80c27ad48a9ceb48659   \n\n                                                  url            last_updated  \n0   https://issues.apache.org/jira/rest/api/2/sear... 2018-10-11 10:51:59.605  \n1   https://issues.apache.org/jira/rest/api/2/sear... 2018-02-14 10:21:01.946  \n2   https://issues.apache.org/jira/rest/api/2/sear... 2018-02-15 16:03:36.502  \n3   https://api.github.com/repos/openintents/safe/... 2018-02-14 10:36:58.429  \n4   https://api.github.com/repos/junit-team/junit4... 2018-02-14 10:21:01.938  \n..                                                ...                     ...  \n95  https://issues.apache.org/jira/rest/api/2/sear... 2021-07-25 17:14:14.303  \n96  https://issues.apache.org/jira/rest/api/2/sear... 2021-07-25 17:33:01.512  \n97  https://issues.apache.org/jira/rest/api/2/sear... 2021-09-28 15:02:54.385  \n98  https://issues.apache.org/jira/rest/api/2/sear... 2021-09-28 15:23:49.811  \n99  https://issues.apache.org/jira/rest/api/2/sear... 2021-10-04 10:10:33.416  \n\n[100 rows x 4 columns]",
      "text/html": "<div>\n<style scoped>\n    .dataframe tbody tr th:only-of-type {\n        vertical-align: middle;\n    }\n\n    .dataframe tbody tr th {\n        vertical-align: top;\n    }\n\n    .dataframe thead th {\n        text-align: right;\n    }\n</style>\n<table border=\"1\" class=\"dataframe\">\n  <thead>\n    <tr style=\"text-align: right;\">\n      <th></th>\n      <th>_id</th>\n      <th>project_id</th>\n      <th>url</th>\n      <th>last_updated</th>\n    </tr>\n  </thead>\n  <tbody>\n    <tr>\n      <th>0</th>\n      <td>58bfca8e0ccb2667fe269dd0</td>\n      <td>5ca4c6b26bcebe2f4003c6e4</td>\n      <td>https://issues.apache.org/jira/rest/api/2/sear...</td>\n      <td>2018-10-11 10:51:59.605</td>\n    </tr>\n    <tr>\n      <th>1</th>\n      <td>58c8d8bb1cf3f06cf158fbd8</td>\n      <td>58c8979e0da3ef6363ccb8de</td>\n      <td>https://issues.apache.org/jira/rest/api/2/sear...</td>\n      <td>2018-02-14 10:21:01.946</td>\n    </tr>\n    <tr>\n      <th>2</th>\n      <td>58c1131c537f8c637a3d5529</td>\n      <td>58bfd5860da3ef7cef464c78</td>\n      <td>https://issues.apache.org/jira/rest/api/2/sear...</td>\n      <td>2018-02-15 16:03:36.502</td>\n    </tr>\n    <tr>\n      <th>3</th>\n      <td>58c8970ccba9df45732dbc5f</td>\n      <td>58c891b50da3ef6363ccb8dd</td>\n      <td>https://api.github.com/repos/openintents/safe/...</td>\n      <td>2018-02-14 10:36:58.429</td>\n    </tr>\n    <tr>\n      <th>4</th>\n      <td>59bc19b55c7d7959fe8f58d7</td>\n      <td>59bbc64e0da3ef6c6a5056b7</td>\n      <td>https://api.github.com/repos/junit-team/junit4...</td>\n      <td>2018-02-14 10:21:01.938</td>\n    </tr>\n    <tr>\n      <th>...</th>\n      <td>...</td>\n      <td>...</td>\n      <td>...</td>\n      <td>...</td>\n    </tr>\n    <tr>\n      <th>95</th>\n      <td>60fd7fc69b5e644f88818b01</td>\n      <td>60a24a6992d37bcecc65bf82</td>\n      <td>https://issues.apache.org/jira/rest/api/2/sear...</td>\n      <td>2021-07-25 17:14:14.303</td>\n    </tr>\n    <tr>\n      <th>96</th>\n      <td>60fd842d75ac9a34ac2ce726</td>\n      <td>60a24ac427ad48a9ceb48656</td>\n      <td>https://issues.apache.org/jira/rest/api/2/sear...</td>\n      <td>2021-07-25 17:33:01.512</td>\n    </tr>\n    <tr>\n      <th>97</th>\n      <td>6153127ebc841b72899c7d60</td>\n      <td>61093a618d56179891397c7b</td>\n      <td>https://issues.apache.org/jira/rest/api/2/sear...</td>\n      <td>2021-09-28 15:02:54.385</td>\n    </tr>\n    <tr>\n      <th>98</th>\n      <td>61531765061141410f0f92a5</td>\n      <td>610939f8a6eb327cba047eca</td>\n      <td>https://issues.apache.org/jira/rest/api/2/sear...</td>\n      <td>2021-09-28 15:23:49.811</td>\n    </tr>\n    <tr>\n      <th>99</th>\n      <td>615ab6f91877e638eab15142</td>\n      <td>6110d80c27ad48a9ceb48659</td>\n      <td>https://issues.apache.org/jira/rest/api/2/sear...</td>\n      <td>2021-10-04 10:10:33.416</td>\n    </tr>\n  </tbody>\n</table>\n<p>100 rows × 4 columns</p>\n</div>"
     },
     "execution_count": 14,
     "metadata": {},
     "output_type": "execute_result"
    }
   ],
   "source": [
    "mycol = mydb[\"issue_system\"]\n",
    "\n",
    "mydoc = mycol.find().limit(100)\n",
    "df =  pd.DataFrame(list(mydoc))\n",
    "df.head(100)"
   ],
   "metadata": {
    "collapsed": false
   }
  },
  {
   "cell_type": "markdown",
   "source": [
    "Commit"
   ],
   "metadata": {
    "collapsed": false
   }
  },
  {
   "cell_type": "code",
   "execution_count": 18,
   "outputs": [
    {
     "data": {
      "text/plain": "                          _id           pull_request_id external_id  \\\n0    5ff188713fba52c925be892a  5ff1886f3fba52c925be8927  3202397712   \n1    5ff188713fba52c925be892b  5ff1886f3fba52c925be8927  3202397715   \n2    5ff188733fba52c925be8932  5ff188723fba52c925be892c  2804807509   \n3    5ff188753fba52c925be893a  5ff188743fba52c925be8933  2793843800   \n4    5ff188753fba52c925be893b  5ff188743fba52c925be8933  2793871026   \n..                        ...                       ...         ...   \n995  5ff19d3ead38daddddf6108e  5ff19d3cad38daddddf61089  3580477515   \n996  5ff19d3ead38daddddf6108f  5ff19d3cad38daddddf61089  3580477520   \n997  5ff19d3ead38daddddf61090  5ff19d3cad38daddddf61089  3580477525   \n998  5ff19d3ead38daddddf61091  5ff19d3cad38daddddf61089  3580478292   \n999  5ff19d3fad38daddddf61095  5ff19d3ead38daddddf61092  3578536928   \n\n             created_at                 author_id  \\\n0   2020-04-05 12:24:20  59bc22dcf2a4565fe9cfa0a7   \n1   2020-04-05 12:24:20  59bc22dcf2a4565fe9cfa0a7   \n2   2019-11-16 14:43:29  5ff18872c26a57681e7b6d2b   \n3   2019-11-13 04:14:41  5ff18874c26a57681e7b6d50   \n4   2019-11-13 04:34:34  5ff18874c26a57681e7b6d50   \n..                  ...                       ...   \n995 2020-07-23 15:16:31  59bc208df2a4565fe9cf580f   \n996 2020-07-23 15:16:31  59bc208df2a4565fe9cf580f   \n997 2020-07-23 15:16:31  59bc208df2a4565fe9cf580f   \n998 2020-07-23 15:16:41  5ff191c8c26a57681e7b99d0   \n999 2020-07-23 06:01:12  5ff191c8c26a57681e7b99d0   \n\n                                   commit_sha  \\\n0    bb8cfa726cb93f8f77b59125e80e06cf2fc1b7f6   \n1                                         NaN   \n2                                         NaN   \n3                                         NaN   \n4                                         NaN   \n..                                        ...   \n995  edc2dfcebdbbb9711f05ef5b603acae15571f100   \n996  edc2dfcebdbbb9711f05ef5b603acae15571f100   \n997                                       NaN   \n998                                       NaN   \n999                                       NaN   \n\n                            commit_repo_url             event_type  \\\n0         https://github.com/apache/ant-ivy                 merged   \n1                                       NaN                 closed   \n2                                       NaN  head_ref_force_pushed   \n3                                       NaN                renamed   \n4                                       NaN              mentioned   \n..                                      ...                    ...   \n995  https://github.com/apache/commons-bcel             referenced   \n996  https://github.com/apache/commons-bcel                 merged   \n997                                     NaN                 closed   \n998                                     NaN       head_ref_deleted   \n999                                     NaN                labeled   \n\n                                       additional_data commit_id  \n0                   {'performed_via_github_app': None}       NaN  \n1                   {'performed_via_github_app': None}       NaN  \n2                   {'performed_via_github_app': None}       NaN  \n3    {'rename': {'to': 'IVY-1615: implement retriev...       NaN  \n4                   {'performed_via_github_app': None}       NaN  \n..                                                 ...       ...  \n995                 {'performed_via_github_app': None}       NaN  \n996                 {'performed_via_github_app': None}       NaN  \n997                 {'performed_via_github_app': None}       NaN  \n998                 {'performed_via_github_app': None}       NaN  \n999  {'performed_via_github_app': None, 'label': {'...       NaN  \n\n[1000 rows x 10 columns]",
      "text/html": "<div>\n<style scoped>\n    .dataframe tbody tr th:only-of-type {\n        vertical-align: middle;\n    }\n\n    .dataframe tbody tr th {\n        vertical-align: top;\n    }\n\n    .dataframe thead th {\n        text-align: right;\n    }\n</style>\n<table border=\"1\" class=\"dataframe\">\n  <thead>\n    <tr style=\"text-align: right;\">\n      <th></th>\n      <th>_id</th>\n      <th>pull_request_id</th>\n      <th>external_id</th>\n      <th>created_at</th>\n      <th>author_id</th>\n      <th>commit_sha</th>\n      <th>commit_repo_url</th>\n      <th>event_type</th>\n      <th>additional_data</th>\n      <th>commit_id</th>\n    </tr>\n  </thead>\n  <tbody>\n    <tr>\n      <th>0</th>\n      <td>5ff188713fba52c925be892a</td>\n      <td>5ff1886f3fba52c925be8927</td>\n      <td>3202397712</td>\n      <td>2020-04-05 12:24:20</td>\n      <td>59bc22dcf2a4565fe9cfa0a7</td>\n      <td>bb8cfa726cb93f8f77b59125e80e06cf2fc1b7f6</td>\n      <td>https://github.com/apache/ant-ivy</td>\n      <td>merged</td>\n      <td>{'performed_via_github_app': None}</td>\n      <td>NaN</td>\n    </tr>\n    <tr>\n      <th>1</th>\n      <td>5ff188713fba52c925be892b</td>\n      <td>5ff1886f3fba52c925be8927</td>\n      <td>3202397715</td>\n      <td>2020-04-05 12:24:20</td>\n      <td>59bc22dcf2a4565fe9cfa0a7</td>\n      <td>NaN</td>\n      <td>NaN</td>\n      <td>closed</td>\n      <td>{'performed_via_github_app': None}</td>\n      <td>NaN</td>\n    </tr>\n    <tr>\n      <th>2</th>\n      <td>5ff188733fba52c925be8932</td>\n      <td>5ff188723fba52c925be892c</td>\n      <td>2804807509</td>\n      <td>2019-11-16 14:43:29</td>\n      <td>5ff18872c26a57681e7b6d2b</td>\n      <td>NaN</td>\n      <td>NaN</td>\n      <td>head_ref_force_pushed</td>\n      <td>{'performed_via_github_app': None}</td>\n      <td>NaN</td>\n    </tr>\n    <tr>\n      <th>3</th>\n      <td>5ff188753fba52c925be893a</td>\n      <td>5ff188743fba52c925be8933</td>\n      <td>2793843800</td>\n      <td>2019-11-13 04:14:41</td>\n      <td>5ff18874c26a57681e7b6d50</td>\n      <td>NaN</td>\n      <td>NaN</td>\n      <td>renamed</td>\n      <td>{'rename': {'to': 'IVY-1615: implement retriev...</td>\n      <td>NaN</td>\n    </tr>\n    <tr>\n      <th>4</th>\n      <td>5ff188753fba52c925be893b</td>\n      <td>5ff188743fba52c925be8933</td>\n      <td>2793871026</td>\n      <td>2019-11-13 04:34:34</td>\n      <td>5ff18874c26a57681e7b6d50</td>\n      <td>NaN</td>\n      <td>NaN</td>\n      <td>mentioned</td>\n      <td>{'performed_via_github_app': None}</td>\n      <td>NaN</td>\n    </tr>\n    <tr>\n      <th>...</th>\n      <td>...</td>\n      <td>...</td>\n      <td>...</td>\n      <td>...</td>\n      <td>...</td>\n      <td>...</td>\n      <td>...</td>\n      <td>...</td>\n      <td>...</td>\n      <td>...</td>\n    </tr>\n    <tr>\n      <th>995</th>\n      <td>5ff19d3ead38daddddf6108e</td>\n      <td>5ff19d3cad38daddddf61089</td>\n      <td>3580477515</td>\n      <td>2020-07-23 15:16:31</td>\n      <td>59bc208df2a4565fe9cf580f</td>\n      <td>edc2dfcebdbbb9711f05ef5b603acae15571f100</td>\n      <td>https://github.com/apache/commons-bcel</td>\n      <td>referenced</td>\n      <td>{'performed_via_github_app': None}</td>\n      <td>NaN</td>\n    </tr>\n    <tr>\n      <th>996</th>\n      <td>5ff19d3ead38daddddf6108f</td>\n      <td>5ff19d3cad38daddddf61089</td>\n      <td>3580477520</td>\n      <td>2020-07-23 15:16:31</td>\n      <td>59bc208df2a4565fe9cf580f</td>\n      <td>edc2dfcebdbbb9711f05ef5b603acae15571f100</td>\n      <td>https://github.com/apache/commons-bcel</td>\n      <td>merged</td>\n      <td>{'performed_via_github_app': None}</td>\n      <td>NaN</td>\n    </tr>\n    <tr>\n      <th>997</th>\n      <td>5ff19d3ead38daddddf61090</td>\n      <td>5ff19d3cad38daddddf61089</td>\n      <td>3580477525</td>\n      <td>2020-07-23 15:16:31</td>\n      <td>59bc208df2a4565fe9cf580f</td>\n      <td>NaN</td>\n      <td>NaN</td>\n      <td>closed</td>\n      <td>{'performed_via_github_app': None}</td>\n      <td>NaN</td>\n    </tr>\n    <tr>\n      <th>998</th>\n      <td>5ff19d3ead38daddddf61091</td>\n      <td>5ff19d3cad38daddddf61089</td>\n      <td>3580478292</td>\n      <td>2020-07-23 15:16:41</td>\n      <td>5ff191c8c26a57681e7b99d0</td>\n      <td>NaN</td>\n      <td>NaN</td>\n      <td>head_ref_deleted</td>\n      <td>{'performed_via_github_app': None}</td>\n      <td>NaN</td>\n    </tr>\n    <tr>\n      <th>999</th>\n      <td>5ff19d3fad38daddddf61095</td>\n      <td>5ff19d3ead38daddddf61092</td>\n      <td>3578536928</td>\n      <td>2020-07-23 06:01:12</td>\n      <td>5ff191c8c26a57681e7b99d0</td>\n      <td>NaN</td>\n      <td>NaN</td>\n      <td>labeled</td>\n      <td>{'performed_via_github_app': None, 'label': {'...</td>\n      <td>NaN</td>\n    </tr>\n  </tbody>\n</table>\n<p>1000 rows × 10 columns</p>\n</div>"
     },
     "execution_count": 18,
     "metadata": {},
     "output_type": "execute_result"
    }
   ],
   "source": [
    "mycol = mydb[\"pull_request_event\"]\n",
    "\n",
    "mydoc = mycol.find().limit(1000)\n",
    "df =  pd.DataFrame(list(mydoc))\n",
    "df.head(1000)"
   ],
   "metadata": {
    "collapsed": false
   }
  },
  {
   "cell_type": "code",
   "execution_count": null,
   "outputs": [],
   "source": [],
   "metadata": {
    "collapsed": false
   }
  }
 ],
 "metadata": {
  "kernelspec": {
   "display_name": "Python 3.9.12 ('base')",
   "language": "python",
   "name": "python3"
  },
  "language_info": {
   "codemirror_mode": {
    "name": "ipython",
    "version": 3
   },
   "file_extension": ".py",
   "mimetype": "text/x-python",
   "name": "python",
   "nbconvert_exporter": "python",
   "pygments_lexer": "ipython3",
   "version": "3.9.12"
  },
  "vscode": {
   "interpreter": {
    "hash": "543c6eab67a9d01555f64ac7a8a17e30064736b5ebe44fa77ad52f10ea480787"
   }
  }
 },
 "nbformat": 4,
 "nbformat_minor": 4
}
